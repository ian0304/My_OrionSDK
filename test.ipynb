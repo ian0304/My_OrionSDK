{
 "cells": [
  {
   "cell_type": "code",
   "execution_count": 2,
   "metadata": {},
   "outputs": [],
   "source": [
    "import orionsdk\n",
    "import requests"
   ]
  },
  {
   "cell_type": "code",
   "execution_count": 21,
   "metadata": {},
   "outputs": [
    {
     "name": "stderr",
     "output_type": "stream",
     "text": [
      "/home/ian/My_OrionSDK/venv/lib/python3.10/site-packages/urllib3/connectionpool.py:1043: InsecureRequestWarning: Unverified HTTPS request is being made to host '192.168.21.39'. Adding certificate verification is strongly advised. See: https://urllib3.readthedocs.io/en/1.26.x/advanced-usage.html#ssl-warnings\n",
      "  warnings.warn(\n"
     ]
    },
    {
     "data": {
      "text/plain": [
       "{'results': [{'NodeID': 2, 'DisplayName': 'N5K-1', 'IP': '192.168.20.13'},\n",
       "  {'NodeID': 3, 'DisplayName': 'N5K-2', 'IP': '192.168.20.14'}]}"
      ]
     },
     "execution_count": 21,
     "metadata": {},
     "output_type": "execute_result"
    }
   ],
   "source": [
    "swis = orionsdk.SwisClient(\"192.168.21.39\", \"test\", \"Password01!!\")\n",
    "\n",
    "swis.query(\"SELECT NodeID, DisplayName, IP FROM Orion.Nodes WHERE Vendor='Cisco' \")"
   ]
  },
  {
   "cell_type": "code",
   "execution_count": null,
   "metadata": {},
   "outputs": [],
   "source": [
    "{'results': [{'NodeID': 1,\n",
    "   'DisplayName': 'Solarwinds39',\n",
    "   'Uri': 'swis://Solarwinds39./Orion/Orion.Nodes/NodeID=1',\n",
    "   'IP': '192.168.21.39',\n",
    "   'Vendor': 'Windows'},\n",
    "  {'NodeID': 2,\n",
    "   'DisplayName': 'N5K-1',\n",
    "   'Uri': 'swis://Solarwinds39./Orion/Orion.Nodes/NodeID=2',\n",
    "   'IP': '192.168.20.13',\n",
    "   'Vendor': 'Cisco'},\n",
    "  {'NodeID': 3,\n",
    "   'DisplayName': 'N5K-2',\n",
    "   'Uri': 'swis://Solarwinds39./Orion/Orion.Nodes/NodeID=3',\n",
    "   'IP': '192.168.20.14',\n",
    "   'Vendor': 'Cisco'}]}"
   ]
  },
  {
   "cell_type": "code",
   "execution_count": null,
   "metadata": {},
   "outputs": [],
   "source": []
  },
  {
   "cell_type": "code",
   "execution_count": null,
   "metadata": {},
   "outputs": [],
   "source": []
  }
 ],
 "metadata": {
  "interpreter": {
   "hash": "a41a803065ca6ae58bea20c5508cf9cc01c467de1083112e4766b1d49fae5fd8"
  },
  "kernelspec": {
   "display_name": "Python 3.10.2 ('venv': venv)",
   "language": "python",
   "name": "python3"
  },
  "language_info": {
   "codemirror_mode": {
    "name": "ipython",
    "version": 3
   },
   "file_extension": ".py",
   "mimetype": "text/x-python",
   "name": "python",
   "nbconvert_exporter": "python",
   "pygments_lexer": "ipython3",
   "version": "3.10.2"
  },
  "orig_nbformat": 4
 },
 "nbformat": 4,
 "nbformat_minor": 2
}
